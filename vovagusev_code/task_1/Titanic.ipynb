{
  "nbformat": 4,
  "nbformat_minor": 0,
  "metadata": {
    "accelerator": "GPU",
    "colab": {
      "name": "Titanic.ipynb\"",
      "provenance": [],
      "collapsed_sections": []
    },
    "kernelspec": {
      "display_name": "Python 3",
      "name": "python3"
    }
  },
  "cells": [
    {
      "cell_type": "code",
      "metadata": {
        "colab": {
          "base_uri": "https://localhost:8080/"
        },
        "id": "SHBa-Ld57JMy",
        "outputId": "32355b38-09db-4205-b54d-93b52ca05cf5"
      },
      "source": [
        "import warnings\n",
        "import numpy as np\n",
        "import pandas as pd\n",
        "import seaborn as sns\n",
        "import matplotlib.pyplot as plt\n",
        "from sklearn.preprocessing import OneHotEncoder\n",
        "from sklearn.preprocessing import StandardScaler\n",
        "from sklearn.linear_model import LogisticRegression\n",
        "from sklearn.model_selection import GridSearchCV\n",
        "from sklearn.ensemble import RandomForestClassifier\n",
        "from sklearn.svm import SVC\n",
        "from lightgbm import LGBMClassifier\n",
        "from xgboost import XGBClassifier\n",
        "from catboost import CatBoostClassifier\n",
        "from sklearn.ensemble import VotingClassifier\n",
        "from pydrive.auth import GoogleAuth\n",
        "from pydrive.drive import GoogleDrive\n",
        "from google.colab import auth\n",
        "from oauth2client.client import GoogleCredentials\n",
        "from google.colab import drive\n",
        "\n",
        "drive.mount('/content/drive/')\n",
        "auth.authenticate_user()\n",
        "\n",
        "gauth = GoogleAuth()\n",
        "gauth.credentials = GoogleCredentials.get_application_default()\n",
        "drive = GoogleDrive(gauth)\n",
        "\n",
        "pd.options.mode.chained_assignment = None\n",
        "# %matplotlib inline\n",
        "warnings.filterwarnings('ignore')"
      ],
      "execution_count": 177,
      "outputs": [
        {
          "output_type": "stream",
          "text": [
            "Drive already mounted at /content/drive/; to attempt to forcibly remount, call drive.mount(\"/content/drive/\", force_remount=True).\n"
          ],
          "name": "stdout"
        }
      ]
    },
    {
      "cell_type": "markdown",
      "metadata": {
        "id": "QkXGOIl7Cf8e"
      },
      "source": [
        "**1.  Load the Data**"
      ]
    },
    {
      "cell_type": "code",
      "metadata": {
        "id": "wLzixNRMsnh0"
      },
      "source": [
        "train_data = drive.CreateFile({'id': '1TNpBMpZVCbvF6hgP-Gvu5Iybu1hiKJkS'})\n",
        "train_data.GetContentFile('train.csv')\n",
        "test_data = drive.CreateFile({'id': '1d2_B-6SFGKtBwAeV3THr0459ClHfsK5C'})\n",
        "test_data.GetContentFile('test.csv')"
      ],
      "execution_count": 178,
      "outputs": []
    },
    {
      "cell_type": "code",
      "metadata": {
        "id": "0lCC4w55w6Y_"
      },
      "source": [
        "train_data = pd.read_csv(\"train.csv\", index_col=\"PassengerId\")\n",
        "test_data = pd.read_csv(\"test.csv\", index_col=\"PassengerId\")"
      ],
      "execution_count": 179,
      "outputs": []
    },
    {
      "cell_type": "markdown",
      "metadata": {
        "id": "md_W0IvlHAtX"
      },
      "source": [
        "1.   Let's see some info about train_data\n",
        "2.   Let's see some info about test_data"
      ]
    },
    {
      "cell_type": "code",
      "metadata": {
        "colab": {
          "base_uri": "https://localhost:8080/"
        },
        "id": "lASsdpOxTjCg",
        "outputId": "d69afcb7-90fb-44d9-94c3-ae922873dc9f"
      },
      "source": [
        "print(train_data.info())\n",
        "print(train_data.isna().sum())  # amount of missied values for each column"
      ],
      "execution_count": 180,
      "outputs": [
        {
          "output_type": "stream",
          "text": [
            "<class 'pandas.core.frame.DataFrame'>\n",
            "Int64Index: 891 entries, 1 to 891\n",
            "Data columns (total 11 columns):\n",
            " #   Column    Non-Null Count  Dtype  \n",
            "---  ------    --------------  -----  \n",
            " 0   Survived  891 non-null    int64  \n",
            " 1   Pclass    891 non-null    int64  \n",
            " 2   Name      891 non-null    object \n",
            " 3   Sex       891 non-null    object \n",
            " 4   Age       714 non-null    float64\n",
            " 5   SibSp     891 non-null    int64  \n",
            " 6   Parch     891 non-null    int64  \n",
            " 7   Ticket    891 non-null    object \n",
            " 8   Fare      891 non-null    float64\n",
            " 9   Cabin     204 non-null    object \n",
            " 10  Embarked  889 non-null    object \n",
            "dtypes: float64(2), int64(4), object(5)\n",
            "memory usage: 83.5+ KB\n",
            "None\n",
            "Survived      0\n",
            "Pclass        0\n",
            "Name          0\n",
            "Sex           0\n",
            "Age         177\n",
            "SibSp         0\n",
            "Parch         0\n",
            "Ticket        0\n",
            "Fare          0\n",
            "Cabin       687\n",
            "Embarked      2\n",
            "dtype: int64\n"
          ],
          "name": "stdout"
        }
      ]
    },
    {
      "cell_type": "code",
      "metadata": {
        "colab": {
          "base_uri": "https://localhost:8080/"
        },
        "id": "3rNthOtYTk9v",
        "outputId": "dcaefdfc-9b3b-4f30-a43e-4a5d6385e080"
      },
      "source": [
        "print(test_data.info())\n",
        "print(test_data.isna().sum())"
      ],
      "execution_count": 181,
      "outputs": [
        {
          "output_type": "stream",
          "text": [
            "<class 'pandas.core.frame.DataFrame'>\n",
            "Int64Index: 418 entries, 892 to 1309\n",
            "Data columns (total 10 columns):\n",
            " #   Column    Non-Null Count  Dtype  \n",
            "---  ------    --------------  -----  \n",
            " 0   Pclass    418 non-null    int64  \n",
            " 1   Name      418 non-null    object \n",
            " 2   Sex       418 non-null    object \n",
            " 3   Age       332 non-null    float64\n",
            " 4   SibSp     418 non-null    int64  \n",
            " 5   Parch     418 non-null    int64  \n",
            " 6   Ticket    418 non-null    object \n",
            " 7   Fare      417 non-null    float64\n",
            " 8   Cabin     91 non-null     object \n",
            " 9   Embarked  418 non-null    object \n",
            "dtypes: float64(2), int64(3), object(5)\n",
            "memory usage: 35.9+ KB\n",
            "None\n",
            "Pclass        0\n",
            "Name          0\n",
            "Sex           0\n",
            "Age          86\n",
            "SibSp         0\n",
            "Parch         0\n",
            "Ticket        0\n",
            "Fare          1\n",
            "Cabin       327\n",
            "Embarked      0\n",
            "dtype: int64\n"
          ],
          "name": "stdout"
        }
      ]
    },
    {
      "cell_type": "markdown",
      "metadata": {
        "id": "eZeaut6sHTq2"
      },
      "source": [
        "**2. Visualising the Data**\n",
        "\n",
        "\n",
        "Let's see how different variables are associated with survival variable"
      ]
    },
    {
      "cell_type": "markdown",
      "metadata": {
        "id": "EPkpI4jBJGSa"
      },
      "source": [
        "**1)Pclass variable**"
      ]
    },
    {
      "cell_type": "code",
      "metadata": {
        "id": "asqciByNUIXK"
      },
      "source": [
        "%%flake8\n",
        "print(train_data[\"Pclass\"].unique())\n",
        "train_data[['Pclass', 'Survived']].groupby(\n",
        "    ['Pclass'], as_index=False).mean().sort_values(\n",
        "        by='Survived', ascending=False)"
      ],
      "execution_count": 182,
      "outputs": []
    },
    {
      "cell_type": "markdown",
      "metadata": {
        "id": "hZHu3bdtH2e6"
      },
      "source": [
        "There are three classes (1, 2 and 3) representing first, second or third class tickets on the boat.\n",
        "\n",
        "As we can see with the higher Pclass passengers having a higher survival rate. \n",
        "\n",
        "So Pclass variable can make an impact on the final result and it makes sense to include it in the model."
      ]
    },
    {
      "cell_type": "markdown",
      "metadata": {
        "id": "95yQen5KZluB"
      },
      "source": [
        "**2)Name variable**"
      ]
    },
    {
      "cell_type": "code",
      "metadata": {
        "colab": {
          "base_uri": "https://localhost:8080/"
        },
        "id": "IEkPFJCFXxsk",
        "outputId": "466d96e4-ec54-4298-ac3c-115cc210987a"
      },
      "source": [
        "print(train_data[\"Name\"])"
      ],
      "execution_count": 183,
      "outputs": [
        {
          "output_type": "stream",
          "text": [
            "PassengerId\n",
            "1                                Braund, Mr. Owen Harris\n",
            "2      Cumings, Mrs. John Bradley (Florence Briggs Th...\n",
            "3                                 Heikkinen, Miss. Laina\n",
            "4           Futrelle, Mrs. Jacques Heath (Lily May Peel)\n",
            "5                               Allen, Mr. William Henry\n",
            "                             ...                        \n",
            "887                                Montvila, Rev. Juozas\n",
            "888                         Graham, Miss. Margaret Edith\n",
            "889             Johnston, Miss. Catherine Helen \"Carrie\"\n",
            "890                                Behr, Mr. Karl Howell\n",
            "891                                  Dooley, Mr. Patrick\n",
            "Name: Name, Length: 891, dtype: object\n"
          ],
          "name": "stdout"
        }
      ]
    },
    {
      "cell_type": "code",
      "metadata": {
        "colab": {
          "base_uri": "https://localhost:8080/"
        },
        "id": "oPGRK-K-YSYi",
        "outputId": "abd7d04d-ef91-45e9-8355-b23a16eb4343"
      },
      "source": [
        "print(train_data.Name[1].split())"
      ],
      "execution_count": 184,
      "outputs": [
        {
          "output_type": "stream",
          "text": [
            "['Braund,', 'Mr.', 'Owen', 'Harris']\n"
          ],
          "name": "stdout"
        }
      ]
    },
    {
      "cell_type": "markdown",
      "metadata": {
        "id": "ce3gBAaJaDhq"
      },
      "source": [
        "As we can see by splitting name we got title, surname and name of the person.\n",
        "\n",
        "So I can suppose that the whole families either survived or died together. Maybe i'm wrong, but never mind:)\n",
        "\n",
        "So i decided to match up surnames to group families together.\n",
        "\n",
        "Also i wanna get titles of names in terms of there are some common ones such as Mr and Miss and some rare/unique ones such as Rev (reverend). \n",
        "\n",
        "I can assume that the passengers with their own titles were sagnificantly important so they might have been more likely to survive."
      ]
    },
    {
      "cell_type": "markdown",
      "metadata": {
        "id": "Z5YsypoOfgKf"
      },
      "source": [
        "In order to get family name (surname) we can split name of passenger by comma and get the first entry of array."
      ]
    },
    {
      "cell_type": "code",
      "metadata": {
        "colab": {
          "base_uri": "https://localhost:8080/"
        },
        "id": "Wk11IZhAf5wn",
        "outputId": "002283ac-f889-43ed-e5bd-8b12f48b1c79"
      },
      "source": [
        "print(train_data.Name[1].split(\",\")[0])"
      ],
      "execution_count": 185,
      "outputs": [
        {
          "output_type": "stream",
          "text": [
            "Braund\n"
          ],
          "name": "stdout"
        }
      ]
    },
    {
      "cell_type": "markdown",
      "metadata": {
        "id": "iCRyYPUCngr7"
      },
      "source": [
        "In order to get title we can split name of passenger by comma and get the second entry of array.After split it by dot and get the first entry of array."
      ]
    },
    {
      "cell_type": "code",
      "metadata": {
        "colab": {
          "base_uri": "https://localhost:8080/"
        },
        "id": "P_hHuK1Jnsgr",
        "outputId": "c73a2ffb-17a8-4c7e-f18d-eba533845333"
      },
      "source": [
        "print(train_data.Name[1].split(\",\")[1].split(\".\")[0])"
      ],
      "execution_count": 186,
      "outputs": [
        {
          "output_type": "stream",
          "text": [
            " Mr\n"
          ],
          "name": "stdout"
        }
      ]
    },
    {
      "cell_type": "code",
      "metadata": {
        "id": "8YGc6zSHYtJ9"
      },
      "source": [
        "train_data = train_data.assign(fname=train_data.Name.str.split(\",\").str[0])\n",
        "train_data[\"title\"] = pd.Series([i.split(\",\")[1].split(\".\")[0].strip()\n",
        "                                for i in train_data.Name],\n",
        "                                index=train_data.index)\n",
        "test_data = test_data.assign(fname=test_data.Name.str.split(\",\").str[0])\n",
        "test_data[\"title\"] = pd.Series([i.split(\",\")[1].split(\".\")[0].strip()\n",
        "                               for i in test_data.Name],\n",
        "                               index=test_data.index)\n",
        "train_data.drop(\"Name\", axis=1, inplace=True)\n",
        "test_data.drop(\"Name\", axis=1, inplace=True)"
      ],
      "execution_count": 187,
      "outputs": []
    },
    {
      "cell_type": "markdown",
      "metadata": {
        "id": "QQycz9myp808"
      },
      "source": [
        "Let's see the amount of unique fnames and titles."
      ]
    },
    {
      "cell_type": "code",
      "metadata": {
        "colab": {
          "base_uri": "https://localhost:8080/"
        },
        "id": "alVOXiU6lwK7",
        "outputId": "0fece1f8-fb54-44d1-d682-db35dd27ec7d"
      },
      "source": [
        "print(test_data.fname.nunique())\n",
        "print(test_data.title.nunique())"
      ],
      "execution_count": 188,
      "outputs": [
        {
          "output_type": "stream",
          "text": [
            "352\n",
            "9\n"
          ],
          "name": "stdout"
        }
      ]
    },
    {
      "cell_type": "markdown",
      "metadata": {
        "id": "5FKH5qFPqJro"
      },
      "source": [
        "Visualization for the number of values for each title."
      ]
    },
    {
      "cell_type": "code",
      "metadata": {
        "colab": {
          "base_uri": "https://localhost:8080/",
          "height": 403
        },
        "id": "uUF4Y17upI-C",
        "outputId": "0a1956db-dbe6-465f-b013-7030be995609"
      },
      "source": [
        "ts = sns.countplot(x=\"title\", data=train_data)\n",
        "ts = plt.setp(ts.get_xticklabels(), rotation=90)\n",
        "print(train_data[\"title\"].unique())\n",
        "print(test_data[\"title\"].unique())\n",
        "other_titles = [title\n",
        "                for title in train_data[\"title\"]\n",
        "                if title not in [\"Mr\", \"Miss\", \"Master\",\n",
        "                                 \"Mme\", \"Mlle\", \"Mrs\", \"Ms\"]]\n",
        "# these titles are more important than other common ones\n",
        "other_titles.append(\"Dona\")\n",
        "print(set(other_titles))  # the unique values of other titles"
      ],
      "execution_count": 189,
      "outputs": [
        {
          "output_type": "stream",
          "text": [
            "['Mr' 'Mrs' 'Miss' 'Master' 'Don' 'Rev' 'Dr' 'Mme' 'Ms' 'Major' 'Lady'\n",
            " 'Sir' 'Mlle' 'Col' 'Capt' 'the Countess' 'Jonkheer']\n",
            "['Mr' 'Mrs' 'Miss' 'Master' 'Ms' 'Col' 'Rev' 'Dr' 'Dona']\n",
            "{'Major', 'Capt', 'Dr', 'Rev', 'the Countess', 'Dona', 'Col', 'Don', 'Sir', 'Jonkheer', 'Lady'}\n"
          ],
          "name": "stdout"
        },
        {
          "output_type": "display_data",
          "data": {
            "image/png": "[encoded data removed]",
            "text/plain": [
              "<Figure size 432x288 with 1 Axes>"
            ]
          },
          "metadata": {
            "tags": [],
            "needs_background": "light"
          }
        }
      ]
    },
    {
      "cell_type": "markdown",
      "metadata": {
        "id": "psHYvvpCvRsh"
      },
      "source": [
        "There are a lot of uniques so I want to group them.\n",
        "\n",
        "I will use the pandas dataframe replace and map functions for this."
      ]
    },
    {
      "cell_type": "code",
      "metadata": {
        "id": "aisCad6A8AsV"
      },
      "source": [
        "common = {\"Mr\": 0, \"Miss\": 1, \"Ms\": 1, \"Mme\": 1, \"Mlle\": 1,\n",
        "                              \"Mrs\": 1, \"Master\": 2, \"Other\": 3}\n",
        "train_data[\"title\"] = train_data['title'].replace(other_titles, 'Other')\n",
        "train_data[\"title\"] = train_data[\"title\"].map(common)\n",
        "test_data[\"title\"] = test_data['title'].replace(other_titles, 'Other')\n",
        "test_data[\"title\"] = test_data[\"title\"].map(common)"
      ],
      "execution_count": 190,
      "outputs": []
    },
    {
      "cell_type": "code",
      "metadata": {
        "colab": {
          "base_uri": "https://localhost:8080/"
        },
        "id": "GiSXxFHL9clE",
        "outputId": "7ef36f63-8352-4cb0-a687-3135691b59b6"
      },
      "source": [
        "print(train_data.title)\n",
        "print(test_data.title.isna().sum())\n",
        "print(train_data.title.nunique())"
      ],
      "execution_count": 191,
      "outputs": [
        {
          "output_type": "stream",
          "text": [
            "PassengerId\n",
            "1      0\n",
            "2      1\n",
            "3      1\n",
            "4      1\n",
            "5      0\n",
            "      ..\n",
            "887    3\n",
            "888    1\n",
            "889    1\n",
            "890    0\n",
            "891    0\n",
            "Name: title, Length: 891, dtype: int64\n",
            "0\n",
            "4\n"
          ],
          "name": "stdout"
        }
      ]
    },
    {
      "cell_type": "markdown",
      "metadata": {
        "id": "v07QtgPEwoRG"
      },
      "source": [
        "fname and title variables are not numerical so it makes sense to apply OneHotEncoder. \n",
        "\n",
        "We can not use map in this case in terms of our model will interpret these \n",
        "columns as quantitative variables and as the result will be inccorrect output.\n",
        "\n",
        "We just wanna show to model the belonging of passenger to the specific family and title."
      ]
    },
    {
      "cell_type": "code",
      "metadata": {
        "id": "R5kRDnl4A2xa"
      },
      "source": [
        "oh = OneHotEncoder(handle_unknown=\"ignore\", sparse=False)\n",
        "train_data = train_data.join(pd.DataFrame(oh.fit_transform(\n",
        "    train_data[[\"fname\", \"title\"]]), index=train_data.index))\n",
        "test_data = test_data.join(pd.DataFrame(oh.transform(\n",
        "    test_data[[\"fname\", \"title\"]]), index=test_data.index))\n",
        "train_data.drop(\"fname\", axis=1, inplace=True)\n",
        "test_data.drop(\"fname\", axis=1, inplace=True)"
      ],
      "execution_count": 192,
      "outputs": []
    },
    {
      "cell_type": "markdown",
      "metadata": {
        "id": "N88AcLKN-oYf"
      },
      "source": [
        "**3)Sex variable**"
      ]
    },
    {
      "cell_type": "code",
      "metadata": {
        "colab": {
          "base_uri": "https://localhost:8080/",
          "height": 128
        },
        "id": "wh5MJMvWRB7Y",
        "outputId": "4a98ef13-dc34-40f8-9190-4f7f1d79be77"
      },
      "source": [
        "print(train_data[\"Sex\"].unique())\n",
        "train_data[['Sex', 'Survived']].groupby(['Sex'],\n",
        "                                        as_index=False).mean().sort_values(\n",
        "                                            by='Survived', ascending=False)"
      ],
      "execution_count": 193,
      "outputs": [
        {
          "output_type": "stream",
          "text": [
            "['male' 'female']\n"
          ],
          "name": "stdout"
        },
        {
          "output_type": "execute_result",
          "data": {
            "text/html": [
              "<div>\n",
              "<style scoped>\n",
              "    .dataframe tbody tr th:only-of-type {\n",
              "        vertical-align: middle;\n",
              "    }\n",
              "\n",
              "    .dataframe tbody tr th {\n",
              "        vertical-align: top;\n",
              "    }\n",
              "\n",
              "    .dataframe thead th {\n",
              "        text-align: right;\n",
              "    }\n",
              "</style>\n",
              "<table border=\"1\" class=\"dataframe\">\n",
              "  <thead>\n",
              "    <tr style=\"text-align: right;\">\n",
              "      <th></th>\n",
              "      <th>Sex</th>\n",
              "      <th>Survived</th>\n",
              "    </tr>\n",
              "  </thead>\n",
              "  <tbody>\n",
              "    <tr>\n",
              "      <th>0</th>\n",
              "      <td>female</td>\n",
              "      <td>0.742038</td>\n",
              "    </tr>\n",
              "    <tr>\n",
              "      <th>1</th>\n",
              "      <td>male</td>\n",
              "      <td>0.188908</td>\n",
              "    </tr>\n",
              "  </tbody>\n",
              "</table>\n",
              "</div>"
            ],
            "text/plain": [
              "      Sex  Survived\n",
              "0  female  0.742038\n",
              "1    male  0.188908"
            ]
          },
          "metadata": {
            "tags": []
          },
          "execution_count": 193
        }
      ]
    },
    {
      "cell_type": "markdown",
      "metadata": {
        "id": "9WH_vu_W-tmb"
      },
      "source": [
        "As we can see females have a much higher survival rate. \n",
        "\n",
        "It makes sense to include Sex in the model.\n"
      ]
    },
    {
      "cell_type": "markdown",
      "metadata": {
        "id": "Y8DM9GNG_VZc"
      },
      "source": [
        "Across all males and females, females have a much higher survival rate. \n",
        "\n",
        "But what if wealthy males have a higher survival than poor females? It might make sense to segment this out explicity.\n",
        "\n",
        "Let's create a new feature sex_class that represents all above."
      ]
    },
    {
      "cell_type": "code",
      "metadata": {
        "colab": {
          "base_uri": "https://localhost:8080/",
          "height": 235
        },
        "id": "B-dxk49bSs_E",
        "outputId": "9ba43ba4-e396-4dfe-dcc7-161c004ed1e9"
      },
      "source": [
        "interactions = train_data.assign(\n",
        "    sex_class=train_data['Sex'] + \"_\" + train_data['Pclass'].astype(\"str\"))\n",
        "interactions[['sex_class', 'Survived']].groupby(\n",
        "    ['sex_class'], as_index=False).mean().sort_values(\n",
        "        by='Survived', ascending=False)"
      ],
      "execution_count": 194,
      "outputs": [
        {
          "output_type": "execute_result",
          "data": {
            "text/html": [
              "<div>\n",
              "<style scoped>\n",
              "    .dataframe tbody tr th:only-of-type {\n",
              "        vertical-align: middle;\n",
              "    }\n",
              "\n",
              "    .dataframe tbody tr th {\n",
              "        vertical-align: top;\n",
              "    }\n",
              "\n",
              "    .dataframe thead th {\n",
              "        text-align: right;\n",
              "    }\n",
              "</style>\n",
              "<table border=\"1\" class=\"dataframe\">\n",
              "  <thead>\n",
              "    <tr style=\"text-align: right;\">\n",
              "      <th></th>\n",
              "      <th>sex_class</th>\n",
              "      <th>Survived</th>\n",
              "    </tr>\n",
              "  </thead>\n",
              "  <tbody>\n",
              "    <tr>\n",
              "      <th>0</th>\n",
              "      <td>female_1</td>\n",
              "      <td>0.968085</td>\n",
              "    </tr>\n",
              "    <tr>\n",
              "      <th>1</th>\n",
              "      <td>female_2</td>\n",
              "      <td>0.921053</td>\n",
              "    </tr>\n",
              "    <tr>\n",
              "      <th>2</th>\n",
              "      <td>female_3</td>\n",
              "      <td>0.500000</td>\n",
              "    </tr>\n",
              "    <tr>\n",
              "      <th>3</th>\n",
              "      <td>male_1</td>\n",
              "      <td>0.368852</td>\n",
              "    </tr>\n",
              "    <tr>\n",
              "      <th>4</th>\n",
              "      <td>male_2</td>\n",
              "      <td>0.157407</td>\n",
              "    </tr>\n",
              "    <tr>\n",
              "      <th>5</th>\n",
              "      <td>male_3</td>\n",
              "      <td>0.135447</td>\n",
              "    </tr>\n",
              "  </tbody>\n",
              "</table>\n",
              "</div>"
            ],
            "text/plain": [
              "  sex_class  Survived\n",
              "0  female_1  0.968085\n",
              "1  female_2  0.921053\n",
              "2  female_3  0.500000\n",
              "3    male_1  0.368852\n",
              "4    male_2  0.157407\n",
              "5    male_3  0.135447"
            ]
          },
          "metadata": {
            "tags": []
          },
          "execution_count": 194
        }
      ]
    },
    {
      "cell_type": "code",
      "metadata": {
        "colab": {
          "base_uri": "https://localhost:8080/"
        },
        "id": "wgJK108jTY7o",
        "outputId": "b76f7e22-89ee-4d01-d4d8-56f521f9cc1e"
      },
      "source": [
        "train_data = train_data.assign(\n",
        "    sex_class=train_data['Sex'] + \"_\" + train_data['Pclass'].astype(\"str\"))\n",
        "test_data = test_data.assign(\n",
        "    sex_class=test_data['Sex'] + \"_\" + test_data['Pclass'].astype(\"str\"))\n",
        "print(train_data)"
      ],
      "execution_count": 195,
      "outputs": [
        {
          "output_type": "stream",
          "text": [
            "             Survived  Pclass     Sex   Age  ...  668  669  670  sex_class\n",
            "PassengerId                                  ...                          \n",
            "1                   0       3    male  22.0  ...  0.0  0.0  0.0     male_3\n",
            "2                   1       1  female  38.0  ...  1.0  0.0  0.0   female_1\n",
            "3                   1       3  female  26.0  ...  1.0  0.0  0.0   female_3\n",
            "4                   1       1  female  35.0  ...  1.0  0.0  0.0   female_1\n",
            "5                   0       3    male  35.0  ...  0.0  0.0  0.0     male_3\n",
            "...               ...     ...     ...   ...  ...  ...  ...  ...        ...\n",
            "887                 0       2    male  27.0  ...  0.0  0.0  1.0     male_2\n",
            "888                 1       1  female  19.0  ...  1.0  0.0  0.0   female_1\n",
            "889                 0       3  female   NaN  ...  1.0  0.0  0.0   female_3\n",
            "890                 1       1    male  26.0  ...  0.0  0.0  0.0     male_1\n",
            "891                 0       3    male  32.0  ...  0.0  0.0  0.0     male_3\n",
            "\n",
            "[891 rows x 683 columns]\n"
          ],
          "name": "stdout"
        }
      ]
    },
    {
      "cell_type": "markdown",
      "metadata": {
        "id": "hqI-S1gNIQT-"
      },
      "source": [
        "Pclass variable is encoded numerically, but it is ordinal and it will be treated the same as something like Age by most of the models.\n",
        "\n",
        "So let's encode it by using dummy variables."
      ]
    },
    {
      "cell_type": "code",
      "metadata": {
        "colab": {
          "base_uri": "https://localhost:8080/"
        },
        "id": "HXCdqC1xtz2u",
        "outputId": "2e3bc767-34f2-48f8-d1d2-0a9e194be5e8"
      },
      "source": [
        "train_data = train_data.join(pd.get_dummies(train_data['Pclass'],\n",
        "                                            prefix=\"Pclass\"))\n",
        "test_data = test_data.join(pd.get_dummies(test_data['Pclass'],\n",
        "                                          prefix=\"Pclass\"))\n",
        "print(train_data)"
      ],
      "execution_count": 196,
      "outputs": [
        {
          "output_type": "stream",
          "text": [
            "             Survived  Pclass     Sex  ...  Pclass_1  Pclass_2  Pclass_3\n",
            "PassengerId                            ...                              \n",
            "1                   0       3    male  ...         0         0         1\n",
            "2                   1       1  female  ...         1         0         0\n",
            "3                   1       3  female  ...         0         0         1\n",
            "4                   1       1  female  ...         1         0         0\n",
            "5                   0       3    male  ...         0         0         1\n",
            "...               ...     ...     ...  ...       ...       ...       ...\n",
            "887                 0       2    male  ...         0         1         0\n",
            "888                 1       1  female  ...         1         0         0\n",
            "889                 0       3  female  ...         0         0         1\n",
            "890                 1       1    male  ...         1         0         0\n",
            "891                 0       3    male  ...         0         0         1\n",
            "\n",
            "[891 rows x 686 columns]\n"
          ],
          "name": "stdout"
        }
      ]
    },
    {
      "cell_type": "markdown",
      "metadata": {
        "id": "eojQazS-JP6f"
      },
      "source": [
        "Let's encode Sex variable as numeric by using the map method."
      ]
    },
    {
      "cell_type": "code",
      "metadata": {
        "id": "509FG8zIwXRe"
      },
      "source": [
        "train_data[\"Sex\"] = train_data[\"Sex\"].map({\"female\": 0, \"male\": 1})\n",
        "test_data[\"Sex\"] = test_data[\"Sex\"].map({\"female\": 0, \"male\": 1})"
      ],
      "execution_count": 197,
      "outputs": []
    },
    {
      "cell_type": "markdown",
      "metadata": {
        "id": "08-tfz21JgYW"
      },
      "source": [
        "The same stuff for sex_class."
      ]
    },
    {
      "cell_type": "code",
      "metadata": {
        "colab": {
          "base_uri": "https://localhost:8080/"
        },
        "id": "m4gC6JcuxxTe",
        "outputId": "ecf718c6-727b-422e-d4f8-61edff528de2"
      },
      "source": [
        "sex_class = {\"female_1\": 0, \"female_2\": 1, \"female_3\": 2,\n",
        "             \"male_1\": 4, \"male_2\": 5, \"male_3\": 6}\n",
        "train_data[\"sex_class\"] = train_data[\"sex_class\"].map(sex_class)\n",
        "test_data[\"sex_class\"] = test_data[\"sex_class\"].map(sex_class)\n",
        "print(train_data.sex_class)"
      ],
      "execution_count": 198,
      "outputs": [
        {
          "output_type": "stream",
          "text": [
            "PassengerId\n",
            "1      6\n",
            "2      0\n",
            "3      2\n",
            "4      0\n",
            "5      6\n",
            "      ..\n",
            "887    5\n",
            "888    0\n",
            "889    2\n",
            "890    4\n",
            "891    6\n",
            "Name: sex_class, Length: 891, dtype: int64\n"
          ],
          "name": "stdout"
        }
      ]
    },
    {
      "cell_type": "markdown",
      "metadata": {
        "id": "2ywHha4qJvg4"
      },
      "source": [
        "**4)Age**\n",
        "\n",
        "Let's look at the distribution of age and see if there is any association with survival."
      ]
    },
    {
      "cell_type": "code",
      "metadata": {
        "colab": {
          "base_uri": "https://localhost:8080/",
          "height": 225
        },
        "id": "72-Lp-88ya_3",
        "outputId": "aaf748f6-878f-4f4e-9808-0de86d36aa36"
      },
      "source": [
        "g = sns.FacetGrid(train_data, col='Survived')\n",
        "g = g.map(sns.distplot, \"Age\")"
      ],
      "execution_count": 199,
      "outputs": [
        {
          "output_type": "display_data",
          "data": {
            "image/png": "[encoded data removed]",
            "text/plain": [
              "<Figure size 432x216 with 2 Axes>"
            ]
          },
          "metadata": {
            "tags": [],
            "needs_background": "light"
          }
        }
      ]
    },
    {
      "cell_type": "code",
      "metadata": {
        "colab": {
          "base_uri": "https://localhost:8080/"
        },
        "id": "4igBgh2BKPyv",
        "outputId": "7aade379-33f6-4c4a-fe41-cb1b58bc9c7c"
      },
      "source": [
        "print(train_data.Age.isna().sum())"
      ],
      "execution_count": 200,
      "outputs": [
        {
          "output_type": "stream",
          "text": [
            "177\n"
          ],
          "name": "stdout"
        }
      ]
    },
    {
      "cell_type": "markdown",
      "metadata": {
        "id": "vxe3nvWUPSYv"
      },
      "source": [
        "There are some missing values that need to be dealt with. \n",
        "\n",
        "So we can replace the missing data with the average from similar passengers. \n",
        "\n",
        "For example, if we're missing the age of a 1st class passenger, who is female, who embarked from C. \n",
        "\n",
        "We could substitute in the age of other passengers who fit that description."
      ]
    },
    {
      "cell_type": "code",
      "metadata": {
        "id": "uDwl1WkZ0IHV"
      },
      "source": [
        "# %%flake8\n",
        "\n",
        "\n",
        "def find_similar_passengers(id, dataset):\n",
        "    subset = dataset[(dataset.title == dataset.title[id]) & (dataset.Pclass == dataset.Pclass[id])]\n",
        "\n",
        "    if subset[\"Age\"].mean() == \"NaN\":\n",
        "        subset = dataset[(dataset[\"sex_class\"] == dataset.iloc[id][\"sex_class\"])]\n",
        "\n",
        "    if subset[\"Age\"].mean() == \"NaN\":\n",
        "        subset = dataset[(dataset[\"sex\"] == dataset.iloc[id][\"sex\"])]\n",
        "\n",
        "    age = subset[\"Age\"].mean()\n",
        "    return age\n",
        "\n",
        "\n",
        "no_ages = train_data[train_data[\"Age\"].isna()].index\n",
        "for pid in no_ages:\n",
        "    train_data.Age[pid] = find_similar_passengers(pid, train_data)\n",
        "\n",
        "no_ages_test = test_data[test_data[\"Age\"].isna()].index\n",
        "for pid2 in no_ages_test:\n",
        "    test_data.Age[pid2] = find_similar_passengers(pid2, test_data)"
      ],
      "execution_count": 245,
      "outputs": []
    },
    {
      "cell_type": "markdown",
      "metadata": {
        "id": "efX3FP2bQwbF"
      },
      "source": [
        "The missing data is filled in.\n",
        "\n",
        "I think that children have a much higher survival rate and the elderly have a much lower.\n",
        "\n",
        "So we can reorganise Age column by segmenting it into groups of <5, 5-65 and >65.\n"
      ]
    },
    {
      "cell_type": "code",
      "metadata": {
        "colab": {
          "base_uri": "https://localhost:8080/"
        },
        "id": "yBpdLTpO3FHi",
        "outputId": "e28581ef-355f-4a70-bd81-b1b5b836869c"
      },
      "source": [
        "train_data[\"age_group\"] = pd.cut(train_data[\"Age\"], bins=[0, 5, 65, 100],\n",
        "                                 labels=[0, 1, 2]).astype(\"int64\")\n",
        "test_data[\"age_group\"] = pd.cut(test_data[\"Age\"], bins=[0, 5, 65, 100],\n",
        "                                labels=[0, 1, 2]).astype(\"int64\")\n",
        "print(train_data)"
      ],
      "execution_count": 203,
      "outputs": [
        {
          "output_type": "stream",
          "text": [
            "             Survived  Pclass  Sex  ...  Pclass_2  Pclass_3  age_group\n",
            "PassengerId                         ...                               \n",
            "1                   0       3    1  ...         0         1          1\n",
            "2                   1       1    0  ...         0         0          1\n",
            "3                   1       3    0  ...         0         1          1\n",
            "4                   1       1    0  ...         0         0          1\n",
            "5                   0       3    1  ...         0         1          1\n",
            "...               ...     ...  ...  ...       ...       ...        ...\n",
            "887                 0       2    1  ...         1         0          1\n",
            "888                 1       1    0  ...         0         0          1\n",
            "889                 0       3    0  ...         0         1          1\n",
            "890                 1       1    1  ...         0         0          1\n",
            "891                 0       3    1  ...         0         1          1\n",
            "\n",
            "[891 rows x 687 columns]\n"
          ],
          "name": "stdout"
        }
      ]
    },
    {
      "cell_type": "markdown",
      "metadata": {
        "id": "zZJZEz9KR7_N"
      },
      "source": [
        "**5)SibSp and Parch variables**\n",
        "\n",
        "SibSp: The number of siblings or spouses aboard the titanic.\n",
        "\n",
        "Parch: The number of parents/children aboard the titanic.\n",
        "\n",
        "Both of them have the straight relation to family size, so we can add them together."
      ]
    },
    {
      "cell_type": "code",
      "metadata": {
        "colab": {
          "base_uri": "https://localhost:8080/",
          "height": 266
        },
        "id": "-SeuW_VzQ8Mt",
        "outputId": "b9cf4d00-7739-4cef-c31c-62a14f7c27ef"
      },
      "source": [
        "train_data[['SibSp', 'Survived']].groupby(['SibSp'],\n",
        "                                          as_index=False).mean().sort_values(\n",
        "                                              by='Survived', ascending=False)"
      ],
      "execution_count": 204,
      "outputs": [
        {
          "output_type": "execute_result",
          "data": {
            "text/html": [
              "<div>\n",
              "<style scoped>\n",
              "    .dataframe tbody tr th:only-of-type {\n",
              "        vertical-align: middle;\n",
              "    }\n",
              "\n",
              "    .dataframe tbody tr th {\n",
              "        vertical-align: top;\n",
              "    }\n",
              "\n",
              "    .dataframe thead th {\n",
              "        text-align: right;\n",
              "    }\n",
              "</style>\n",
              "<table border=\"1\" class=\"dataframe\">\n",
              "  <thead>\n",
              "    <tr style=\"text-align: right;\">\n",
              "      <th></th>\n",
              "      <th>SibSp</th>\n",
              "      <th>Survived</th>\n",
              "    </tr>\n",
              "  </thead>\n",
              "  <tbody>\n",
              "    <tr>\n",
              "      <th>1</th>\n",
              "      <td>1</td>\n",
              "      <td>0.535885</td>\n",
              "    </tr>\n",
              "    <tr>\n",
              "      <th>2</th>\n",
              "      <td>2</td>\n",
              "      <td>0.464286</td>\n",
              "    </tr>\n",
              "    <tr>\n",
              "      <th>0</th>\n",
              "      <td>0</td>\n",
              "      <td>0.345395</td>\n",
              "    </tr>\n",
              "    <tr>\n",
              "      <th>3</th>\n",
              "      <td>3</td>\n",
              "      <td>0.250000</td>\n",
              "    </tr>\n",
              "    <tr>\n",
              "      <th>4</th>\n",
              "      <td>4</td>\n",
              "      <td>0.166667</td>\n",
              "    </tr>\n",
              "    <tr>\n",
              "      <th>5</th>\n",
              "      <td>5</td>\n",
              "      <td>0.000000</td>\n",
              "    </tr>\n",
              "    <tr>\n",
              "      <th>6</th>\n",
              "      <td>8</td>\n",
              "      <td>0.000000</td>\n",
              "    </tr>\n",
              "  </tbody>\n",
              "</table>\n",
              "</div>"
            ],
            "text/plain": [
              "   SibSp  Survived\n",
              "1      1  0.535885\n",
              "2      2  0.464286\n",
              "0      0  0.345395\n",
              "3      3  0.250000\n",
              "4      4  0.166667\n",
              "5      5  0.000000\n",
              "6      8  0.000000"
            ]
          },
          "metadata": {
            "tags": []
          },
          "execution_count": 204
        }
      ]
    },
    {
      "cell_type": "code",
      "metadata": {
        "colab": {
          "base_uri": "https://localhost:8080/",
          "height": 266
        },
        "id": "8WH8zvmpRyhG",
        "outputId": "7143f491-fe36-42e4-87b6-ba7876967bb7"
      },
      "source": [
        "train_data[['Parch', 'Survived']].groupby(['Parch'],\n",
        "                                          as_index=False).mean().sort_values(\n",
        "                                              by='Survived', ascending=False)"
      ],
      "execution_count": 205,
      "outputs": [
        {
          "output_type": "execute_result",
          "data": {
            "text/html": [
              "<div>\n",
              "<style scoped>\n",
              "    .dataframe tbody tr th:only-of-type {\n",
              "        vertical-align: middle;\n",
              "    }\n",
              "\n",
              "    .dataframe tbody tr th {\n",
              "        vertical-align: top;\n",
              "    }\n",
              "\n",
              "    .dataframe thead th {\n",
              "        text-align: right;\n",
              "    }\n",
              "</style>\n",
              "<table border=\"1\" class=\"dataframe\">\n",
              "  <thead>\n",
              "    <tr style=\"text-align: right;\">\n",
              "      <th></th>\n",
              "      <th>Parch</th>\n",
              "      <th>Survived</th>\n",
              "    </tr>\n",
              "  </thead>\n",
              "  <tbody>\n",
              "    <tr>\n",
              "      <th>3</th>\n",
              "      <td>3</td>\n",
              "      <td>0.600000</td>\n",
              "    </tr>\n",
              "    <tr>\n",
              "      <th>1</th>\n",
              "      <td>1</td>\n",
              "      <td>0.550847</td>\n",
              "    </tr>\n",
              "    <tr>\n",
              "      <th>2</th>\n",
              "      <td>2</td>\n",
              "      <td>0.500000</td>\n",
              "    </tr>\n",
              "    <tr>\n",
              "      <th>0</th>\n",
              "      <td>0</td>\n",
              "      <td>0.343658</td>\n",
              "    </tr>\n",
              "    <tr>\n",
              "      <th>5</th>\n",
              "      <td>5</td>\n",
              "      <td>0.200000</td>\n",
              "    </tr>\n",
              "    <tr>\n",
              "      <th>4</th>\n",
              "      <td>4</td>\n",
              "      <td>0.000000</td>\n",
              "    </tr>\n",
              "    <tr>\n",
              "      <th>6</th>\n",
              "      <td>6</td>\n",
              "      <td>0.000000</td>\n",
              "    </tr>\n",
              "  </tbody>\n",
              "</table>\n",
              "</div>"
            ],
            "text/plain": [
              "   Parch  Survived\n",
              "3      3  0.600000\n",
              "1      1  0.550847\n",
              "2      2  0.500000\n",
              "0      0  0.343658\n",
              "5      5  0.200000\n",
              "4      4  0.000000\n",
              "6      6  0.000000"
            ]
          },
          "metadata": {
            "tags": []
          },
          "execution_count": 205
        }
      ]
    },
    {
      "cell_type": "markdown",
      "metadata": {
        "id": "PGY9nJ0QS9ZX"
      },
      "source": [
        "As we can see that smaller families tended to survive more than larger families.\n"
      ]
    },
    {
      "cell_type": "code",
      "metadata": {
        "id": "mxd-xHh9SSzl"
      },
      "source": [
        "train_data[\"fsize\"] = train_data[\"SibSp\"] + train_data[\"Parch\"] + 1\n",
        "test_data[\"fsize\"] = test_data[\"SibSp\"] + test_data[\"Parch\"] + 1"
      ],
      "execution_count": 206,
      "outputs": []
    },
    {
      "cell_type": "code",
      "metadata": {
        "colab": {
          "base_uri": "https://localhost:8080/",
          "height": 328
        },
        "id": "cnJ3LFmCSXgN",
        "outputId": "1041979c-2f53-4646-a92e-e366cb126178"
      },
      "source": [
        "train_data[['fsize', 'Survived']].groupby(['fsize'],\n",
        "                                          as_index=False).mean().sort_values(\n",
        "                                              by='Survived', ascending=False)"
      ],
      "execution_count": 207,
      "outputs": [
        {
          "output_type": "execute_result",
          "data": {
            "text/html": [
              "<div>\n",
              "<style scoped>\n",
              "    .dataframe tbody tr th:only-of-type {\n",
              "        vertical-align: middle;\n",
              "    }\n",
              "\n",
              "    .dataframe tbody tr th {\n",
              "        vertical-align: top;\n",
              "    }\n",
              "\n",
              "    .dataframe thead th {\n",
              "        text-align: right;\n",
              "    }\n",
              "</style>\n",
              "<table border=\"1\" class=\"dataframe\">\n",
              "  <thead>\n",
              "    <tr style=\"text-align: right;\">\n",
              "      <th></th>\n",
              "      <th>fsize</th>\n",
              "      <th>Survived</th>\n",
              "    </tr>\n",
              "  </thead>\n",
              "  <tbody>\n",
              "    <tr>\n",
              "      <th>3</th>\n",
              "      <td>4</td>\n",
              "      <td>0.724138</td>\n",
              "    </tr>\n",
              "    <tr>\n",
              "      <th>2</th>\n",
              "      <td>3</td>\n",
              "      <td>0.578431</td>\n",
              "    </tr>\n",
              "    <tr>\n",
              "      <th>1</th>\n",
              "      <td>2</td>\n",
              "      <td>0.552795</td>\n",
              "    </tr>\n",
              "    <tr>\n",
              "      <th>6</th>\n",
              "      <td>7</td>\n",
              "      <td>0.333333</td>\n",
              "    </tr>\n",
              "    <tr>\n",
              "      <th>0</th>\n",
              "      <td>1</td>\n",
              "      <td>0.303538</td>\n",
              "    </tr>\n",
              "    <tr>\n",
              "      <th>4</th>\n",
              "      <td>5</td>\n",
              "      <td>0.200000</td>\n",
              "    </tr>\n",
              "    <tr>\n",
              "      <th>5</th>\n",
              "      <td>6</td>\n",
              "      <td>0.136364</td>\n",
              "    </tr>\n",
              "    <tr>\n",
              "      <th>7</th>\n",
              "      <td>8</td>\n",
              "      <td>0.000000</td>\n",
              "    </tr>\n",
              "    <tr>\n",
              "      <th>8</th>\n",
              "      <td>11</td>\n",
              "      <td>0.000000</td>\n",
              "    </tr>\n",
              "  </tbody>\n",
              "</table>\n",
              "</div>"
            ],
            "text/plain": [
              "   fsize  Survived\n",
              "3      4  0.724138\n",
              "2      3  0.578431\n",
              "1      2  0.552795\n",
              "6      7  0.333333\n",
              "0      1  0.303538\n",
              "4      5  0.200000\n",
              "5      6  0.136364\n",
              "7      8  0.000000\n",
              "8     11  0.000000"
            ]
          },
          "metadata": {
            "tags": []
          },
          "execution_count": 207
        }
      ]
    },
    {
      "cell_type": "markdown",
      "metadata": {
        "id": "lfyy99XST_zF"
      },
      "source": [
        "Small families (4 or less) survived better than people who were alone or in bigger families."
      ]
    },
    {
      "cell_type": "markdown",
      "metadata": {
        "id": "8YSPL_pyUOsS"
      },
      "source": [
        "**6)Ticket**"
      ]
    },
    {
      "cell_type": "code",
      "metadata": {
        "colab": {
          "base_uri": "https://localhost:8080/"
        },
        "id": "6vi42GJXSsVL",
        "outputId": "e1082953-8133-44b3-b0b4-4fd9baeff408"
      },
      "source": [
        "print(train_data.Ticket.nunique())\n",
        "print(train_data.Ticket.isna().sum())\n",
        "print(train_data.Ticket.tail())"
      ],
      "execution_count": 208,
      "outputs": [
        {
          "output_type": "stream",
          "text": [
            "681\n",
            "0\n",
            "PassengerId\n",
            "887        211536\n",
            "888        112053\n",
            "889    W./C. 6607\n",
            "890        111369\n",
            "891        370376\n",
            "Name: Ticket, dtype: object\n"
          ],
          "name": "stdout"
        }
      ]
    },
    {
      "cell_type": "markdown",
      "metadata": {
        "id": "gkMKbc9uUu_d"
      },
      "source": [
        "As we can see tickets are numbers with some prefix letters.\n",
        "\n",
        "Let's separate them."
      ]
    },
    {
      "cell_type": "code",
      "metadata": {
        "id": "22jtRVw-T0sW"
      },
      "source": [
        "train_data[\"ticket_prefix\"] = pd.Series([len(i.split()) > 1 for i in\n",
        "                                         train_data.Ticket],\n",
        "                                        index=train_data.index)"
      ],
      "execution_count": 209,
      "outputs": []
    },
    {
      "cell_type": "code",
      "metadata": {
        "colab": {
          "base_uri": "https://localhost:8080/",
          "height": 111
        },
        "id": "6bw7tUGuT2Nm",
        "outputId": "297c78bb-7f48-45c8-8c63-2903919f85be"
      },
      "source": [
        "train_data[['ticket_prefix', 'Survived']].groupby(\n",
        "    ['ticket_prefix'], as_index=False).mean().sort_values(\n",
        "        by='Survived', ascending=False)"
      ],
      "execution_count": 210,
      "outputs": [
        {
          "output_type": "execute_result",
          "data": {
            "text/html": [
              "<div>\n",
              "<style scoped>\n",
              "    .dataframe tbody tr th:only-of-type {\n",
              "        vertical-align: middle;\n",
              "    }\n",
              "\n",
              "    .dataframe tbody tr th {\n",
              "        vertical-align: top;\n",
              "    }\n",
              "\n",
              "    .dataframe thead th {\n",
              "        text-align: right;\n",
              "    }\n",
              "</style>\n",
              "<table border=\"1\" class=\"dataframe\">\n",
              "  <thead>\n",
              "    <tr style=\"text-align: right;\">\n",
              "      <th></th>\n",
              "      <th>ticket_prefix</th>\n",
              "      <th>Survived</th>\n",
              "    </tr>\n",
              "  </thead>\n",
              "  <tbody>\n",
              "    <tr>\n",
              "      <th>1</th>\n",
              "      <td>True</td>\n",
              "      <td>0.384956</td>\n",
              "    </tr>\n",
              "    <tr>\n",
              "      <th>0</th>\n",
              "      <td>False</td>\n",
              "      <td>0.383459</td>\n",
              "    </tr>\n",
              "  </tbody>\n",
              "</table>\n",
              "</div>"
            ],
            "text/plain": [
              "   ticket_prefix  Survived\n",
              "1           True  0.384956\n",
              "0          False  0.383459"
            ]
          },
          "metadata": {
            "tags": []
          },
          "execution_count": 210
        }
      ]
    },
    {
      "cell_type": "markdown",
      "metadata": {
        "id": "MH3tgOxrXiRn"
      },
      "source": [
        "The survival variable doesn't depand on weather ticket has prefix or not. \n",
        "\n",
        "I can conclude that ticket variable makes no impact on the result.\n",
        "\n",
        "So let's get rid of it."
      ]
    },
    {
      "cell_type": "code",
      "metadata": {
        "id": "KyMI8ifBT-6s"
      },
      "source": [
        "train_data.drop(\"ticket_prefix\", axis=1, inplace=True)\n",
        "train_data.drop(\"Ticket\", axis=1, inplace=True)\n",
        "test_data.drop(\"Ticket\", axis=1, inplace=True)"
      ],
      "execution_count": 211,
      "outputs": []
    },
    {
      "cell_type": "markdown",
      "metadata": {
        "id": "w-_iBH00YfVx"
      },
      "source": [
        "**7)Fare**"
      ]
    },
    {
      "cell_type": "code",
      "metadata": {
        "colab": {
          "base_uri": "https://localhost:8080/",
          "height": 225
        },
        "id": "zzFp5UKTU4ku",
        "outputId": "a849d00c-8e89-4ed9-85df-29380defe210"
      },
      "source": [
        "g = sns.FacetGrid(train_data, col='Survived')\n",
        "g = g.map(sns.distplot, \"Fare\")"
      ],
      "execution_count": 212,
      "outputs": [
        {
          "output_type": "display_data",
          "data": {
            "image/png": "[encoded data removed]",
            "text/plain": [
              "<Figure size 432x216 with 2 Axes>"
            ]
          },
          "metadata": {
            "tags": [],
            "needs_background": "light"
          }
        }
      ]
    },
    {
      "cell_type": "markdown",
      "metadata": {
        "id": "JdXXx2zVY8GE"
      },
      "source": [
        "You can see that survivors had more expensive fares and a wider spread of fare prices. \n",
        "\n",
        "There is at least one outlier with a fare of >500 so dropping it.\n",
        "\n",
        "The data is pretty skewed. Take a log transformation to reduce the skew and to decrease the massive range in fares."
      ]
    },
    {
      "cell_type": "code",
      "metadata": {
        "colab": {
          "base_uri": "https://localhost:8080/",
          "height": 225
        },
        "id": "mYeHJHeCW8QA",
        "outputId": "1342ca90-cfdd-4cf6-ad06-eb7ccd913e14"
      },
      "source": [
        "train_data[\"Fare\"] = train_data[\"Fare\"].map(lambda i: np.log(i) if i > 0 else 0)\n",
        "test_data[\"Fare\"] = test_data[\"Fare\"].map(lambda i: np.log(i) if i > 0 else 0)\n",
        "\n",
        "g = sns.FacetGrid(train_data, col='Survived')\n",
        "g = g.map(sns.distplot, \"Fare\")"
      ],
      "execution_count": 213,
      "outputs": [
        {
          "output_type": "display_data",
          "data": {
            "image/png": "[encoded data removed]",
            "text/plain": [
              "<Figure size 432x216 with 2 Axes>"
            ]
          },
          "metadata": {
            "tags": [],
            "needs_background": "light"
          }
        }
      ]
    },
    {
      "cell_type": "markdown",
      "metadata": {
        "id": "rEzw9TPhZnFD"
      },
      "source": [
        "**8)Cabin**\n",
        "\n",
        "In terms of a big amout of missing values i decided to drop this column.\n",
        "\n",
        "Also i think it makes no impact on the result."
      ]
    },
    {
      "cell_type": "code",
      "metadata": {
        "id": "WYsOuSNMbZlv"
      },
      "source": [
        "train_data.drop(\"Cabin\", axis=1, inplace=True)\n",
        "test_data.drop(\"Cabin\", axis=1, inplace=True)"
      ],
      "execution_count": 214,
      "outputs": []
    },
    {
      "cell_type": "markdown",
      "metadata": {
        "id": "iMQDCXxoah98"
      },
      "source": [
        "**9)Embarked**\n",
        "\n",
        " Let's fill in missing values as S.\n",
        "\n",
        " And encode it by using dummy variable."
      ]
    },
    {
      "cell_type": "code",
      "metadata": {
        "colab": {
          "base_uri": "https://localhost:8080/",
          "height": 142
        },
        "id": "0LYedUcKb-bZ",
        "outputId": "658af969-2e25-4727-fd75-54ad339eac51"
      },
      "source": [
        "train_data[\"Embarked\"] = train_data[\"Embarked\"].fillna(\"S\")\n",
        "train_data[['Embarked', 'Survived']].groupby(\n",
        "    ['Embarked'], as_index=False).mean().sort_values(\n",
        "        by='Survived', ascending=False)"
      ],
      "execution_count": 215,
      "outputs": [
        {
          "output_type": "execute_result",
          "data": {
            "text/html": [
              "<div>\n",
              "<style scoped>\n",
              "    .dataframe tbody tr th:only-of-type {\n",
              "        vertical-align: middle;\n",
              "    }\n",
              "\n",
              "    .dataframe tbody tr th {\n",
              "        vertical-align: top;\n",
              "    }\n",
              "\n",
              "    .dataframe thead th {\n",
              "        text-align: right;\n",
              "    }\n",
              "</style>\n",
              "<table border=\"1\" class=\"dataframe\">\n",
              "  <thead>\n",
              "    <tr style=\"text-align: right;\">\n",
              "      <th></th>\n",
              "      <th>Embarked</th>\n",
              "      <th>Survived</th>\n",
              "    </tr>\n",
              "  </thead>\n",
              "  <tbody>\n",
              "    <tr>\n",
              "      <th>0</th>\n",
              "      <td>C</td>\n",
              "      <td>0.553571</td>\n",
              "    </tr>\n",
              "    <tr>\n",
              "      <th>1</th>\n",
              "      <td>Q</td>\n",
              "      <td>0.389610</td>\n",
              "    </tr>\n",
              "    <tr>\n",
              "      <th>2</th>\n",
              "      <td>S</td>\n",
              "      <td>0.339009</td>\n",
              "    </tr>\n",
              "  </tbody>\n",
              "</table>\n",
              "</div>"
            ],
            "text/plain": [
              "  Embarked  Survived\n",
              "0        C  0.553571\n",
              "1        Q  0.389610\n",
              "2        S  0.339009"
            ]
          },
          "metadata": {
            "tags": []
          },
          "execution_count": 215
        }
      ]
    },
    {
      "cell_type": "code",
      "metadata": {
        "colab": {
          "base_uri": "https://localhost:8080/"
        },
        "id": "qX97g71ZdN0p",
        "outputId": "b06f9e74-0b32-4376-b39e-6eebd9eb0fe7"
      },
      "source": [
        "print(train_data.Embarked.isna().sum())"
      ],
      "execution_count": 216,
      "outputs": [
        {
          "output_type": "stream",
          "text": [
            "0\n"
          ],
          "name": "stdout"
        }
      ]
    },
    {
      "cell_type": "code",
      "metadata": {
        "id": "jPmtkXvfdKTW"
      },
      "source": [
        "train_data = train_data.join(pd.get_dummies(train_data['Embarked'],\n",
        "                                            prefix=\"Embarked_\"))\n",
        "test_data = test_data.join(pd.get_dummies(test_data['Embarked'],\n",
        "                                          prefix=\"Embarked_\"))"
      ],
      "execution_count": 217,
      "outputs": []
    },
    {
      "cell_type": "code",
      "metadata": {
        "id": "hIQP8AW9dXAn"
      },
      "source": [
        "train_data.drop(\"Embarked\", axis=1, inplace=True)\n",
        "test_data.drop(\"Embarked\", axis=1, inplace=True)"
      ],
      "execution_count": 218,
      "outputs": []
    },
    {
      "cell_type": "markdown",
      "metadata": {
        "id": "lMMqlRWdb4zM"
      },
      "source": [
        "**3)Data Normalization/Standartization.**\n",
        "\n",
        "Firstly, let's split our dataframes up into the independant variables (matrix X) \n",
        "\n",
        "and the dependant variable (the vector y).\n",
        "\n",
        "In terms of our independant variables have different scale we are supposed \n",
        "\n",
        "to normalize it by using StandartScaler(Z-normalization)."
      ]
    },
    {
      "cell_type": "code",
      "metadata": {
        "id": "WjiZYkrk0ygU"
      },
      "source": [
        "ss = StandardScaler()\n",
        "\n",
        "train_y = train_data[\"Survived\"]\n",
        "train_data.drop(\"Survived\", axis=1, inplace=True)\n",
        "\n",
        "scoring_method = \"f1\"\n",
        "\n",
        "train_scaled = ss.fit_transform(train_data)\n",
        "test_scaled = ss.transform(test_data)"
      ],
      "execution_count": 219,
      "outputs": []
    },
    {
      "cell_type": "code",
      "metadata": {
        "colab": {
          "base_uri": "https://localhost:8080/"
        },
        "id": "4P3Vjqqr5tx7",
        "outputId": "2d2ffae8-741b-4bba-86f8-625498568f0b"
      },
      "source": [
        "print(train_data.isna().sum())\n",
        "print(test_data.isna().sum())\n"
      ],
      "execution_count": 220,
      "outputs": [
        {
          "output_type": "stream",
          "text": [
            "Pclass         0\n",
            "Sex            0\n",
            "Age            0\n",
            "SibSp          0\n",
            "Parch          0\n",
            "              ..\n",
            "age_group      0\n",
            "fsize          0\n",
            "Embarked__C    0\n",
            "Embarked__Q    0\n",
            "Embarked__S    0\n",
            "Length: 687, dtype: int64\n",
            "Pclass         0\n",
            "Sex            0\n",
            "Age            0\n",
            "SibSp          0\n",
            "Parch          0\n",
            "              ..\n",
            "age_group      0\n",
            "fsize          0\n",
            "Embarked__C    0\n",
            "Embarked__Q    0\n",
            "Embarked__S    0\n",
            "Length: 687, dtype: int64\n"
          ],
          "name": "stdout"
        }
      ]
    },
    {
      "cell_type": "markdown",
      "metadata": {
        "id": "7r4fV2UceOwN"
      },
      "source": [
        "I can conclude that our data is prepared for using."
      ]
    },
    {
      "cell_type": "markdown",
      "metadata": {
        "id": "EdGQ7Sz6eiXi"
      },
      "source": [
        "**4)Modeling**"
      ]
    },
    {
      "cell_type": "markdown",
      "metadata": {
        "id": "0qyuxAjyfFl3"
      },
      "source": [
        "For each model i used GridSeachCV that allows me to create \n",
        "\n",
        "grid of possible values for the parameters and it will test \n",
        "\n",
        "all possible combinations, storing the best result.\n",
        "\n",
        "So i won't search the best parameters manually, but it's brude force algorithm and it will take a while to finish.\n",
        "\n"
      ]
    },
    {
      "cell_type": "markdown",
      "metadata": {
        "id": "0HrVgozqenVP"
      },
      "source": [
        "*1)LogisticRegression*"
      ]
    },
    {
      "cell_type": "code",
      "metadata": {
        "id": "v8PYizRhhpzO"
      },
      "source": [
        "model = LogisticRegression(random_state=10, max_iter=1000)\n",
        "logit_params = {\n",
        "    \"C\": [1, 3, 10, 20, 30, 40],\n",
        "    \"solver\": [\"lbfgs\", \"liblinear\"]\n",
        "}\n",
        "logit_gs = GridSearchCV(model, logit_params, scoring=\"f1\", cv=5, n_jobs=4)"
      ],
      "execution_count": 221,
      "outputs": []
    },
    {
      "cell_type": "code",
      "metadata": {
        "colab": {
          "base_uri": "https://localhost:8080/"
        },
        "id": "noktIFediG-U",
        "outputId": "f5051dcb-a5de-4bb8-e3d0-7d78a654ca2f"
      },
      "source": [
        "logit_gs.fit(train_data, train_y)"
      ],
      "execution_count": 222,
      "outputs": [
        {
          "output_type": "execute_result",
          "data": {
            "text/plain": [
              "GridSearchCV(cv=5, error_score=nan,\n",
              "             estimator=LogisticRegression(C=1.0, class_weight=None, dual=False,\n",
              "                                          fit_intercept=True,\n",
              "                                          intercept_scaling=1, l1_ratio=None,\n",
              "                                          max_iter=1000, multi_class='auto',\n",
              "                                          n_jobs=None, penalty='l2',\n",
              "                                          random_state=10, solver='lbfgs',\n",
              "                                          tol=0.0001, verbose=0,\n",
              "                                          warm_start=False),\n",
              "             iid='deprecated', n_jobs=4,\n",
              "             param_grid={'C': [1, 3, 10, 20, 30, 40],\n",
              "                         'solver': ['lbfgs', 'liblinear']},\n",
              "             pre_dispatch='2*n_jobs', refit=True, return_train_score=False,\n",
              "             scoring='f1', verbose=0)"
            ]
          },
          "metadata": {
            "tags": []
          },
          "execution_count": 222
        }
      ]
    },
    {
      "cell_type": "code",
      "metadata": {
        "colab": {
          "base_uri": "https://localhost:8080/"
        },
        "id": "nomlmpUIiLJq",
        "outputId": "cc4b2075-ac9c-4053-8830-fd9ed0db35e3"
      },
      "source": [
        "print(logit_gs.best_params_)\n",
        "print(logit_gs.best_score_)"
      ],
      "execution_count": 223,
      "outputs": [
        {
          "output_type": "stream",
          "text": [
            "{'C': 20, 'solver': 'lbfgs'}\n",
            "0.7788805987409215\n"
          ],
          "name": "stdout"
        }
      ]
    },
    {
      "cell_type": "markdown",
      "metadata": {
        "id": "DtBAzFhQgNig"
      },
      "source": [
        "*2)RandomForest*"
      ]
    },
    {
      "cell_type": "code",
      "metadata": {
        "id": "4l0CsK7YA06m"
      },
      "source": [
        "rf_model = RandomForestClassifier()\n",
        "\n",
        "rf_params = {\n",
        "    'bootstrap': [True, False],\n",
        "    'max_depth': [10, None],\n",
        "    'max_features': ['auto', 'sqrt'],\n",
        "    'min_samples_leaf': [1, 2, 4],\n",
        "    'min_samples_split': [2, 5, 10],\n",
        "    'n_estimators': [5, 10, 15, 20, 25, 30]}\n",
        "\n",
        "rf_gs = GridSearchCV(rf_model, rf_params,\n",
        "                     scoring=scoring_method, cv=8, n_jobs=4)"
      ],
      "execution_count": 224,
      "outputs": []
    },
    {
      "cell_type": "code",
      "metadata": {
        "colab": {
          "base_uri": "https://localhost:8080/"
        },
        "id": "sI7S8XhLBAu7",
        "outputId": "d9675ff9-ae83-4328-b8c2-e831485f69eb"
      },
      "source": [
        "rf_gs.fit(train_data, train_y)"
      ],
      "execution_count": 225,
      "outputs": [
        {
          "output_type": "execute_result",
          "data": {
            "text/plain": [
              "GridSearchCV(cv=8, error_score=nan,\n",
              "             estimator=RandomForestClassifier(bootstrap=True, ccp_alpha=0.0,\n",
              "                                              class_weight=None,\n",
              "                                              criterion='gini', max_depth=None,\n",
              "                                              max_features='auto',\n",
              "                                              max_leaf_nodes=None,\n",
              "                                              max_samples=None,\n",
              "                                              min_impurity_decrease=0.0,\n",
              "                                              min_impurity_split=None,\n",
              "                                              min_samples_leaf=1,\n",
              "                                              min_samples_split=2,\n",
              "                                              min_weight_fraction_leaf=0.0,\n",
              "                                              n_estimators=100, n_jobs=None,\n",
              "                                              oob_score=False,\n",
              "                                              random_state=None, verbose=0,\n",
              "                                              warm_start=False),\n",
              "             iid='deprecated', n_jobs=4,\n",
              "             param_grid={'bootstrap': [True, False], 'max_depth': [10, None],\n",
              "                         'max_features': ['auto', 'sqrt'],\n",
              "                         'min_samples_leaf': [1, 2, 4],\n",
              "                         'min_samples_split': [2, 5, 10],\n",
              "                         'n_estimators': [5, 10, 15, 20, 25, 30]},\n",
              "             pre_dispatch='2*n_jobs', refit=True, return_train_score=False,\n",
              "             scoring='f1', verbose=0)"
            ]
          },
          "metadata": {
            "tags": []
          },
          "execution_count": 225
        }
      ]
    },
    {
      "cell_type": "code",
      "metadata": {
        "colab": {
          "base_uri": "https://localhost:8080/"
        },
        "id": "-ZOqPLcJBFTG",
        "outputId": "ee5dbd46-e345-4307-8083-c8f83fc85053"
      },
      "source": [
        "print(rf_gs.best_params_)\n",
        "print(rf_gs.best_score_)"
      ],
      "execution_count": 226,
      "outputs": [
        {
          "output_type": "stream",
          "text": [
            "{'bootstrap': True, 'max_depth': None, 'max_features': 'sqrt', 'min_samples_leaf': 1, 'min_samples_split': 5, 'n_estimators': 15}\n",
            "0.7788673858584831\n"
          ],
          "name": "stdout"
        }
      ]
    },
    {
      "cell_type": "markdown",
      "metadata": {
        "id": "RlEfQRFKgaGg"
      },
      "source": [
        "*3)Support Vector Machine*"
      ]
    },
    {
      "cell_type": "code",
      "metadata": {
        "id": "5roJagtRNCwd"
      },
      "source": [
        "svc_model = SVC()\n",
        "\n",
        "test_parameters = {\n",
        "    \"C\": [1, 3, 10, 30, 100],\n",
        "    \"kernel\": [\"linear\", \"poly\", \"rbf\", \"sigmoid\"],\n",
        "}\n",
        "svc_gs = GridSearchCV(svc_model, test_parameters, scoring=\"f1\", cv=5, n_jobs=4)"
      ],
      "execution_count": 227,
      "outputs": []
    },
    {
      "cell_type": "code",
      "metadata": {
        "colab": {
          "base_uri": "https://localhost:8080/"
        },
        "id": "Yn7GYy3XNMOj",
        "outputId": "aa523351-d806-4a77-a11a-857498408518"
      },
      "source": [
        "svc_gs.fit(train_scaled, train_y)"
      ],
      "execution_count": 228,
      "outputs": [
        {
          "output_type": "execute_result",
          "data": {
            "text/plain": [
              "GridSearchCV(cv=5, error_score=nan,\n",
              "             estimator=SVC(C=1.0, break_ties=False, cache_size=200,\n",
              "                           class_weight=None, coef0=0.0,\n",
              "                           decision_function_shape='ovr', degree=3,\n",
              "                           gamma='scale', kernel='rbf', max_iter=-1,\n",
              "                           probability=False, random_state=None, shrinking=True,\n",
              "                           tol=0.001, verbose=False),\n",
              "             iid='deprecated', n_jobs=4,\n",
              "             param_grid={'C': [1, 3, 10, 30, 100],\n",
              "                         'kernel': ['linear', 'poly', 'rbf', 'sigmoid']},\n",
              "             pre_dispatch='2*n_jobs', refit=True, return_train_score=False,\n",
              "             scoring='f1', verbose=0)"
            ]
          },
          "metadata": {
            "tags": []
          },
          "execution_count": 228
        }
      ]
    },
    {
      "cell_type": "code",
      "metadata": {
        "colab": {
          "base_uri": "https://localhost:8080/"
        },
        "id": "mwsBz3BFNSEz",
        "outputId": "c6ee433d-c5a7-495a-95e1-fd622543e87b"
      },
      "source": [
        "print(svc_gs.best_params_)\n",
        "print(svc_gs.best_score_)"
      ],
      "execution_count": 229,
      "outputs": [
        {
          "output_type": "stream",
          "text": [
            "{'C': 10, 'kernel': 'sigmoid'}\n",
            "0.7853251729903806\n"
          ],
          "name": "stdout"
        }
      ]
    },
    {
      "cell_type": "markdown",
      "metadata": {
        "id": "QpLxQkyBgnMh"
      },
      "source": [
        "*4)Light Gradient Boosting*"
      ]
    },
    {
      "cell_type": "code",
      "metadata": {
        "id": "5E0FQi2kNb2y"
      },
      "source": [
        "lgb_model = LGBMClassifier()\n",
        "test_parameters = {\n",
        "    \"n_estimators\": [int(x) for x in np.linspace(5, 30, 6)],\n",
        "    \"reg_alpha\": [0, 0.75, 1, 1.25],\n",
        "    \"learning_rate\": [0.5, 0.4, 0.35, 0.3, 0.25, 0.2],\n",
        "    \"subsample\": [0.5, 0.75, 1]\n",
        "}\n",
        "lgb_gs = GridSearchCV(lgb_model, test_parameters,\n",
        "                      scoring=scoring_method, cv=8, n_jobs=4)"
      ],
      "execution_count": 230,
      "outputs": []
    },
    {
      "cell_type": "code",
      "metadata": {
        "colab": {
          "base_uri": "https://localhost:8080/"
        },
        "id": "x7Ahcb9LNyDV",
        "outputId": "2eab0304-eccb-4324-b52e-9b50bce5b54e"
      },
      "source": [
        "lgb_gs.fit(train_data, train_y)"
      ],
      "execution_count": 231,
      "outputs": [
        {
          "output_type": "execute_result",
          "data": {
            "text/plain": [
              "GridSearchCV(cv=8, error_score=nan,\n",
              "             estimator=LGBMClassifier(boosting_type='gbdt', class_weight=None,\n",
              "                                      colsample_bytree=1.0,\n",
              "                                      importance_type='split',\n",
              "                                      learning_rate=0.1, max_depth=-1,\n",
              "                                      min_child_samples=20,\n",
              "                                      min_child_weight=0.001,\n",
              "                                      min_split_gain=0.0, n_estimators=100,\n",
              "                                      n_jobs=-1, num_leaves=31, objective=None,\n",
              "                                      random_state=None, reg_alpha=0.0,\n",
              "                                      reg_lambda=0.0, silent=True,\n",
              "                                      subsample=1.0, subsample_for_bin=200000,\n",
              "                                      subsample_freq=0),\n",
              "             iid='deprecated', n_jobs=4,\n",
              "             param_grid={'learning_rate': [0.5, 0.4, 0.35, 0.3, 0.25, 0.2],\n",
              "                         'n_estimators': [5, 10, 15, 20, 25, 30],\n",
              "                         'reg_alpha': [0, 0.75, 1, 1.25],\n",
              "                         'subsample': [0.5, 0.75, 1]},\n",
              "             pre_dispatch='2*n_jobs', refit=True, return_train_score=False,\n",
              "             scoring='f1', verbose=0)"
            ]
          },
          "metadata": {
            "tags": []
          },
          "execution_count": 231
        }
      ]
    },
    {
      "cell_type": "code",
      "metadata": {
        "colab": {
          "base_uri": "https://localhost:8080/"
        },
        "id": "vfgFlpNEN1EE",
        "outputId": "f0544085-158e-4bd8-b5b9-0f3984d807f7"
      },
      "source": [
        "print(lgb_gs.best_params_)\n",
        "print(lgb_gs.best_score_)"
      ],
      "execution_count": 232,
      "outputs": [
        {
          "output_type": "stream",
          "text": [
            "{'learning_rate': 0.4, 'n_estimators': 15, 'reg_alpha': 1.25, 'subsample': 0.5}\n",
            "0.7888003510716926\n"
          ],
          "name": "stdout"
        }
      ]
    },
    {
      "cell_type": "markdown",
      "metadata": {
        "id": "n-OzLilbhJuo"
      },
      "source": [
        "*5)XGBoost*"
      ]
    },
    {
      "cell_type": "code",
      "metadata": {
        "colab": {
          "base_uri": "https://localhost:8080/"
        },
        "id": "jTWHW54MeRbF",
        "outputId": "8b9aaf2a-40d3-4ab5-b4d8-e2a9e7c1b60c"
      },
      "source": [
        "xgb_model = XGBClassifier()\n",
        "\n",
        "parameters = {'nthread': [4],\n",
        "              'objective': ['binary:logistic'],\n",
        "              'learning_rate': [0.05],\n",
        "              'max_depth': [6],\n",
        "              'min_child_weight': [11],\n",
        "              'silent': [1],\n",
        "              'subsample': [0.8],\n",
        "              'colsample_bytree': [0.7],\n",
        "              'n_estimators': [5],\n",
        "              'missing': [-999],\n",
        "              'seed': [1337]}\n",
        "\n",
        "\n",
        "xgb_gs = GridSearchCV(xgb_model, parameters,\n",
        "                      scoring=scoring_method, cv=8, n_jobs=5)\n",
        "\n",
        "xgb_gs.fit(train_data, train_y)"
      ],
      "execution_count": 233,
      "outputs": [
        {
          "output_type": "execute_result",
          "data": {
            "text/plain": [
              "GridSearchCV(cv=8, error_score=nan,\n",
              "             estimator=XGBClassifier(base_score=0.5, booster='gbtree',\n",
              "                                     colsample_bylevel=1, colsample_bynode=1,\n",
              "                                     colsample_bytree=1, gamma=0,\n",
              "                                     learning_rate=0.1, max_delta_step=0,\n",
              "                                     max_depth=3, min_child_weight=1,\n",
              "                                     missing=None, n_estimators=100, n_jobs=1,\n",
              "                                     nthread=None, objective='binary:logistic',\n",
              "                                     random_state=0, reg_alpha=0, reg_lambda=1,\n",
              "                                     scale_po...\n",
              "                                     subsample=1, verbosity=1),\n",
              "             iid='deprecated', n_jobs=5,\n",
              "             param_grid={'colsample_bytree': [0.7], 'learning_rate': [0.05],\n",
              "                         'max_depth': [6], 'min_child_weight': [11],\n",
              "                         'missing': [-999], 'n_estimators': [5], 'nthread': [4],\n",
              "                         'objective': ['binary:logistic'], 'seed': [1337],\n",
              "                         'silent': [1], 'subsample': [0.8]},\n",
              "             pre_dispatch='2*n_jobs', refit=True, return_train_score=False,\n",
              "             scoring='f1', verbose=0)"
            ]
          },
          "metadata": {
            "tags": []
          },
          "execution_count": 233
        }
      ]
    },
    {
      "cell_type": "code",
      "metadata": {
        "colab": {
          "base_uri": "https://localhost:8080/"
        },
        "id": "Gcbe2SRNhVBc",
        "outputId": "fab6aa9a-3fab-4615-84e4-0d8d1abd8a0e"
      },
      "source": [
        "print(xgb_gs.best_params_)\n",
        "print(xgb_gs.best_score_)"
      ],
      "execution_count": 234,
      "outputs": [
        {
          "output_type": "stream",
          "text": [
            "{'colsample_bytree': 0.7, 'learning_rate': 0.05, 'max_depth': 6, 'min_child_weight': 11, 'missing': -999, 'n_estimators': 5, 'nthread': 4, 'objective': 'binary:logistic', 'seed': 1337, 'silent': 1, 'subsample': 0.8}\n",
            "0.7282821314687667\n"
          ],
          "name": "stdout"
        }
      ]
    },
    {
      "cell_type": "markdown",
      "metadata": {
        "id": "yUpZrv4shafr"
      },
      "source": [
        "*6)CatBoost*"
      ]
    },
    {
      "cell_type": "code",
      "metadata": {
        "id": "M31LYIaliUJw"
      },
      "source": [
        "catBoost = CatBoostClassifier()\n",
        "test_parameters = {'iterations': [500],\n",
        "                   'depth': [4, 5, 6],\n",
        "                   'loss_function': ['Logloss', 'CrossEntropy'],\n",
        "                   'l2_leaf_reg': np.logspace(-20, -19, 3),\n",
        "                   'leaf_estimation_iterations': [10],\n",
        "                   'logging_level': ['Silent'],\n",
        "                   'random_seed': [42]\n",
        "                   }\n",
        "catboost_gs = GridSearchCV(catBoost, test_parameters,\n",
        "                           scoring=scoring_method, cv=5, n_jobs=4)"
      ],
      "execution_count": 235,
      "outputs": []
    },
    {
      "cell_type": "code",
      "metadata": {
        "colab": {
          "base_uri": "https://localhost:8080/"
        },
        "id": "7XDz3tVtihkx",
        "outputId": "cdc1ae2b-a58c-4dcd-aa9d-5819633b18c4"
      },
      "source": [
        "catboost_gs.fit(train_data, train_y)"
      ],
      "execution_count": 236,
      "outputs": [
        {
          "output_type": "execute_result",
          "data": {
            "text/plain": [
              "GridSearchCV(cv=5, error_score=nan,\n",
              "             estimator=<catboost.core.CatBoostClassifier object at 0x7fe8c4765240>,\n",
              "             iid='deprecated', n_jobs=4,\n",
              "             param_grid={'depth': [4, 5, 6], 'iterations': [500],\n",
              "                         'l2_leaf_reg': array([1.00000000e-20, 3.16227766e-20, 1.00000000e-19]),\n",
              "                         'leaf_estimation_iterations': [10],\n",
              "                         'logging_level': ['Silent'],\n",
              "                         'loss_function': ['Logloss', 'CrossEntropy'],\n",
              "                         'random_seed': [42]},\n",
              "             pre_dispatch='2*n_jobs', refit=True, return_train_score=False,\n",
              "             scoring='f1', verbose=0)"
            ]
          },
          "metadata": {
            "tags": []
          },
          "execution_count": 236
        }
      ]
    },
    {
      "cell_type": "code",
      "metadata": {
        "colab": {
          "base_uri": "https://localhost:8080/"
        },
        "id": "DWWSmELquTtk",
        "outputId": "fe677eb0-d588-4f57-9f0b-a7f028e7b4fb"
      },
      "source": [
        "print(catboost_gs.best_params_)\n",
        "print(catboost_gs.best_score_)"
      ],
      "execution_count": 237,
      "outputs": [
        {
          "output_type": "stream",
          "text": [
            "{'depth': 4, 'iterations': 500, 'l2_leaf_reg': 1e-20, 'leaf_estimation_iterations': 10, 'logging_level': 'Silent', 'loss_function': 'Logloss', 'random_seed': 42}\n",
            "0.7790722545815794\n"
          ],
          "name": "stdout"
        }
      ]
    },
    {
      "cell_type": "markdown",
      "metadata": {
        "id": "_TqVThOIiK8X"
      },
      "source": [
        "**5)Comparing models.**\n",
        "\n",
        "These different models are probably placing different levels of importance on different features/variables. \n",
        "\n",
        "I think the key to a good ensembler/voter is to have models that have different predictions. "
      ]
    },
    {
      "cell_type": "markdown",
      "metadata": {
        "id": "GfLlyxoYinq6"
      },
      "source": [
        "**6)Ensembling/Voting**\n",
        "\n",
        "Let's use a voting classifier to use above models to make an overall prediction. \n",
        "\n",
        "I don't include XGBoost and CatBoost by the reason of overfitting.\n",
        "\n",
        "When i include them i get 99 percent accuracy, but kaggle gives me worse results for this ensemble.\n",
        "\n",
        "But without it ii get better results on keggle.\n",
        "\n",
        "Am i correct of naming it as overfitting?\n",
        "\n",
        "\n",
        "\n"
      ]
    },
    {
      "cell_type": "markdown",
      "metadata": {
        "id": "bHOqTdYxF4Ix"
      },
      "source": [
        "Also i faced with the problem that VotingClassifier no longer willing \n",
        "\n",
        "to apply all of the models during fit function working. \n",
        "\n",
        "The result on kaggle would be better if it worked properly."
      ]
    },
    {
      "cell_type": "code",
      "metadata": {
        "colab": {
          "base_uri": "https://localhost:8080/"
        },
        "id": "5KQvs-oDt8su",
        "outputId": "57c00a13-a1b8-422b-c481-825d94c27634"
      },
      "source": [
        "ensemble_model = VotingClassifier(estimators=[\n",
        "    (\"logit\", logit_gs.best_estimator_),\n",
        "    (\"rf\", rf_gs.best_estimator_),\n",
        "    (\"svc\", svc_gs.best_estimator_),\n",
        "    (\"lgb\", lgb_gs.best_estimator_),\n",
        "    # (\"xgb\", xgb_gs.best_estimator_),\n",
        "    # (\"catboost\", catboost_gs.best_estimator_),\n",
        "], voting=\"hard\")\n",
        "\n",
        "print(ensemble_model.estimators)"
      ],
      "execution_count": 238,
      "outputs": [
        {
          "output_type": "stream",
          "text": [
            "[('logit', LogisticRegression(C=20, class_weight=None, dual=False, fit_intercept=True,\n",
            "                   intercept_scaling=1, l1_ratio=None, max_iter=1000,\n",
            "                   multi_class='auto', n_jobs=None, penalty='l2',\n",
            "                   random_state=10, solver='lbfgs', tol=0.0001, verbose=0,\n",
            "                   warm_start=False)), ('rf', RandomForestClassifier(bootstrap=True, ccp_alpha=0.0, class_weight=None,\n",
            "                       criterion='gini', max_depth=None, max_features='sqrt',\n",
            "                       max_leaf_nodes=None, max_samples=None,\n",
            "                       min_impurity_decrease=0.0, min_impurity_split=None,\n",
            "                       min_samples_leaf=1, min_samples_split=5,\n",
            "                       min_weight_fraction_leaf=0.0, n_estimators=15,\n",
            "                       n_jobs=None, oob_score=False, random_state=None,\n",
            "                       verbose=0, warm_start=False)), ('svc', SVC(C=10, break_ties=False, cache_size=200, class_weight=None, coef0=0.0,\n",
            "    decision_function_shape='ovr', degree=3, gamma='scale', kernel='sigmoid',\n",
            "    max_iter=-1, probability=False, random_state=None, shrinking=True,\n",
            "    tol=0.001, verbose=False)), ('lgb', LGBMClassifier(boosting_type='gbdt', class_weight=None, colsample_bytree=1.0,\n",
            "               importance_type='split', learning_rate=0.4, max_depth=-1,\n",
            "               min_child_samples=20, min_child_weight=0.001, min_split_gain=0.0,\n",
            "               n_estimators=15, n_jobs=-1, num_leaves=31, objective=None,\n",
            "               random_state=None, reg_alpha=1.25, reg_lambda=0.0, silent=True,\n",
            "               subsample=0.5, subsample_for_bin=200000, subsample_freq=0))]\n"
          ],
          "name": "stdout"
        }
      ]
    },
    {
      "cell_type": "code",
      "metadata": {
        "colab": {
          "base_uri": "https://localhost:8080/"
        },
        "id": "q0Et4zgcFhOY",
        "outputId": "12a664a4-b141-454d-c69a-28c9f9ce58b4"
      },
      "source": [
        "ensemble_model.fit(train_data, train_y)"
      ],
      "execution_count": 239,
      "outputs": [
        {
          "output_type": "execute_result",
          "data": {
            "text/plain": [
              "VotingClassifier(estimators=[('logit',\n",
              "                              LogisticRegression(C=20, class_weight=None,\n",
              "                                                 dual=False, fit_intercept=True,\n",
              "                                                 intercept_scaling=1,\n",
              "                                                 l1_ratio=None, max_iter=1000,\n",
              "                                                 multi_class='auto',\n",
              "                                                 n_jobs=None, penalty='l2',\n",
              "                                                 random_state=10,\n",
              "                                                 solver='lbfgs', tol=0.0001,\n",
              "                                                 verbose=0, warm_start=False)),\n",
              "                             ('rf',\n",
              "                              RandomForestClassifier(bootstrap=True,\n",
              "                                                     ccp_alpha=0.0,\n",
              "                                                     class_weight=None,\n",
              "                                                     c...\n",
              "                                             importance_type='split',\n",
              "                                             learning_rate=0.4, max_depth=-1,\n",
              "                                             min_child_samples=20,\n",
              "                                             min_child_weight=0.001,\n",
              "                                             min_split_gain=0.0,\n",
              "                                             n_estimators=15, n_jobs=-1,\n",
              "                                             num_leaves=31, objective=None,\n",
              "                                             random_state=None, reg_alpha=1.25,\n",
              "                                             reg_lambda=0.0, silent=True,\n",
              "                                             subsample=0.5,\n",
              "                                             subsample_for_bin=200000,\n",
              "                                             subsample_freq=0))],\n",
              "                 flatten_transform=True, n_jobs=None, voting='hard',\n",
              "                 weights=None)"
            ]
          },
          "metadata": {
            "tags": []
          },
          "execution_count": 239
        }
      ]
    },
    {
      "cell_type": "code",
      "metadata": {
        "colab": {
          "base_uri": "https://localhost:8080/"
        },
        "id": "QM9ivyDyFreP",
        "outputId": "0cad02a9-8c83-466a-a21a-a676b176bb9b"
      },
      "source": [
        "ensemble_model.score(train_data, train_y)"
      ],
      "execution_count": 240,
      "outputs": [
        {
          "output_type": "execute_result",
          "data": {
            "text/plain": [
              "0.9438832772166106"
            ]
          },
          "metadata": {
            "tags": []
          },
          "execution_count": 240
        }
      ]
    },
    {
      "cell_type": "code",
      "metadata": {
        "id": "tiWTIsPAFr_D"
      },
      "source": [
        "preds = ensemble_model.predict(test_data)"
      ],
      "execution_count": 241,
      "outputs": []
    },
    {
      "cell_type": "code",
      "metadata": {
        "id": "2jZxTmamFw9S"
      },
      "source": [
        "output = pd.DataFrame({'PassengerId': test_data.index,\n",
        "                       'Survived': preds})\n",
        "\n",
        "output.to_csv('submission.csv', index=False)"
      ],
      "execution_count": 242,
      "outputs": []
    }
  ]
}